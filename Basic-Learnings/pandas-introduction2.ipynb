{
 "cells": [
  {
   "cell_type": "code",
   "execution_count": 2,
   "id": "a6926c59",
   "metadata": {},
   "outputs": [],
   "source": [
    "import pandas as pd\n",
    "alunos = {'Nome':['Caio', 'Ricardo', 'Pedro', 'Roberto', 'Carlos'],\n",
    "         'Nota':[4, 5.5, 7.9, 10, 9.5],\n",
    "         'Aprovado':[False, False, True, True, True]}"
   ]
  },
  {
   "cell_type": "code",
   "execution_count": 3,
   "id": "631abf8a",
   "metadata": {},
   "outputs": [],
   "source": [
    "dataFrame = pd.DataFrame(alunos)"
   ]
  },
  {
   "cell_type": "code",
   "execution_count": 8,
   "id": "751d6c82",
   "metadata": {},
   "outputs": [
    {
     "data": {
      "text/html": [
       "<div>\n",
       "<style scoped>\n",
       "    .dataframe tbody tr th:only-of-type {\n",
       "        vertical-align: middle;\n",
       "    }\n",
       "\n",
       "    .dataframe tbody tr th {\n",
       "        vertical-align: top;\n",
       "    }\n",
       "\n",
       "    .dataframe thead th {\n",
       "        text-align: right;\n",
       "    }\n",
       "</style>\n",
       "<table border=\"1\" class=\"dataframe\">\n",
       "  <thead>\n",
       "    <tr style=\"text-align: right;\">\n",
       "      <th></th>\n",
       "      <th>Nome</th>\n",
       "      <th>Nota</th>\n",
       "      <th>Aprovado</th>\n",
       "    </tr>\n",
       "  </thead>\n",
       "  <tbody>\n",
       "    <tr>\n",
       "      <th>0</th>\n",
       "      <td>Caio</td>\n",
       "      <td>4.0</td>\n",
       "      <td>False</td>\n",
       "    </tr>\n",
       "    <tr>\n",
       "      <th>1</th>\n",
       "      <td>Ricardo</td>\n",
       "      <td>5.5</td>\n",
       "      <td>False</td>\n",
       "    </tr>\n",
       "    <tr>\n",
       "      <th>2</th>\n",
       "      <td>Pedro</td>\n",
       "      <td>7.9</td>\n",
       "      <td>True</td>\n",
       "    </tr>\n",
       "    <tr>\n",
       "      <th>3</th>\n",
       "      <td>Roberto</td>\n",
       "      <td>10.0</td>\n",
       "      <td>True</td>\n",
       "    </tr>\n",
       "    <tr>\n",
       "      <th>4</th>\n",
       "      <td>Carlos</td>\n",
       "      <td>9.5</td>\n",
       "      <td>True</td>\n",
       "    </tr>\n",
       "  </tbody>\n",
       "</table>\n",
       "</div>"
      ],
      "text/plain": [
       "      Nome  Nota  Aprovado\n",
       "0     Caio   4.0     False\n",
       "1  Ricardo   5.5     False\n",
       "2    Pedro   7.9      True\n",
       "3  Roberto  10.0      True\n",
       "4   Carlos   9.5      True"
      ]
     },
     "execution_count": 8,
     "metadata": {},
     "output_type": "execute_result"
    }
   ],
   "source": [
    "dataFrame"
   ]
  },
  {
   "cell_type": "code",
   "execution_count": 14,
   "id": "6f51e928",
   "metadata": {},
   "outputs": [
    {
     "name": "stdout",
     "output_type": "stream",
     "text": [
      "0     2\n",
      "1     6\n",
      "2     9\n",
      "3    10\n",
      "4     5\n",
      "dtype: int64\n"
     ]
    }
   ],
   "source": [
    "objeto = pd.Series([2, 6, 9, 10, 5])\n",
    "print(objeto)"
   ]
  },
  {
   "cell_type": "code",
   "execution_count": 18,
   "id": "e816a0f8",
   "metadata": {},
   "outputs": [
    {
     "name": "stdout",
     "output_type": "stream",
     "text": [
      "[ 2  6  9 10  5]\n",
      "[[ 2  6  9 10  5]\n",
      " [ 6 12 15  0  9]]\n"
     ]
    }
   ],
   "source": [
    "import numpy as np\n",
    "arrayUni =  np.array([2, 6, 9, 10, 5])\n",
    "arrayBi = np.array([(2, 6, 9, 10, 5), (6, 12, 15, 0, 9)])\n",
    "print(arrayUni)\n",
    "print(arrayBi)"
   ]
  },
  {
   "cell_type": "code",
   "execution_count": 22,
   "id": "50be04fc",
   "metadata": {
    "scrolled": true
   },
   "outputs": [
    {
     "name": "stdout",
     "output_type": "stream",
     "text": [
      "0     2\n",
      "1     6\n",
      "2     9\n",
      "3    10\n",
      "4     5\n",
      "dtype: int32\n"
     ]
    }
   ],
   "source": [
    "objeto2 = pd.Series(arrayUni)\n",
    "print(objeto2)"
   ]
  },
  {
   "cell_type": "code",
   "execution_count": null,
   "id": "69645d29",
   "metadata": {},
   "outputs": [],
   "source": []
  }
 ],
 "metadata": {
  "kernelspec": {
   "display_name": "Python 3",
   "language": "python",
   "name": "python3"
  },
  "language_info": {
   "codemirror_mode": {
    "name": "ipython",
    "version": 3
   },
   "file_extension": ".py",
   "mimetype": "text/x-python",
   "name": "python",
   "nbconvert_exporter": "python",
   "pygments_lexer": "ipython3",
   "version": "3.8.8"
  }
 },
 "nbformat": 4,
 "nbformat_minor": 5
}
