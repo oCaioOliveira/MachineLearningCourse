{
  "metadata": {
    "language_info": {
      "codemirror_mode": {
        "name": "python",
        "version": 3
      },
      "file_extension": ".py",
      "mimetype": "text/x-python",
      "name": "python",
      "nbconvert_exporter": "python",
      "pygments_lexer": "ipython3",
      "version": "3.8"
    },
    "kernelspec": {
      "name": "python",
      "display_name": "Pyolite",
      "language": "python"
    }
  },
  "nbformat_minor": 4,
  "nbformat": 4,
  "cells": [
    {
      "cell_type": "code",
      "source": "kmh = [40, 50, 60, 45, 55, 65, 80, 100, 120, 150]",
      "metadata": {
        "trusted": true
      },
      "execution_count": 11,
      "outputs": []
    },
    {
      "cell_type": "code",
      "source": "mph = []\nfor item in kmh:\n    mph.append(item/1.61)",
      "metadata": {
        "trusted": true
      },
      "execution_count": 12,
      "outputs": []
    },
    {
      "cell_type": "code",
      "source": "for item in mph:\n    print('{:.2f}'.format(item))",
      "metadata": {
        "trusted": true
      },
      "execution_count": 13,
      "outputs": [
        {
          "name": "stdout",
          "text": "24.84\n31.06\n37.27\n27.95\n34.16\n40.37\n49.69\n62.11\n74.53\n93.17\n",
          "output_type": "stream"
        }
      ]
    },
    {
      "cell_type": "code",
      "source": "mph2 = list(map(lambda x: x/1.61, kmh)) \nmph2",
      "metadata": {
        "trusted": true
      },
      "execution_count": 14,
      "outputs": [
        {
          "execution_count": 14,
          "output_type": "execute_result",
          "data": {
            "text/plain": "[24.844720496894407,\n 31.05590062111801,\n 37.267080745341616,\n 27.95031055900621,\n 34.161490683229815,\n 40.37267080745341,\n 49.689440993788814,\n 62.11180124223602,\n 74.53416149068323,\n 93.16770186335403]"
          },
          "metadata": {}
        }
      ]
    },
    {
      "cell_type": "code",
      "source": "mph3 = [x/1.61 for x in kmh]\nprint(mph3)",
      "metadata": {
        "trusted": true
      },
      "execution_count": 15,
      "outputs": [
        {
          "name": "stdout",
          "text": "[24.844720496894407, 31.05590062111801, 37.267080745341616, 27.95031055900621, 34.161490683229815, 40.37267080745341, 49.689440993788814, 62.11180124223602, 74.53416149068323, 93.16770186335403]\n",
          "output_type": "stream"
        }
      ]
    },
    {
      "cell_type": "code",
      "source": "caracteres = [i + 'u' for i in 'Didática Tech']",
      "metadata": {
        "trusted": true
      },
      "execution_count": 18,
      "outputs": []
    },
    {
      "cell_type": "code",
      "source": "caracteres",
      "metadata": {
        "trusted": true
      },
      "execution_count": 19,
      "outputs": [
        {
          "execution_count": 19,
          "output_type": "execute_result",
          "data": {
            "text/plain": "['Du', 'iu', 'du', 'áu', 'tu', 'iu', 'cu', 'au', ' u', 'Tu', 'eu', 'cu', 'hu']"
          },
          "metadata": {}
        }
      ]
    },
    {
      "cell_type": "code",
      "source": "",
      "metadata": {},
      "execution_count": null,
      "outputs": []
    }
  ]
}